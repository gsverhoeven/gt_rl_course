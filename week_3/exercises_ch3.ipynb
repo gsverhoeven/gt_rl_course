{
 "cells": [
  {
   "cell_type": "markdown",
   "metadata": {},
   "source": [
    "# Exercises Chapter 3 Markov Decision Processes\n",
    "\n",
    "## p51 Ex 3.1 Devise three tasks in MDP framework\n",
    "\n",
    "\n",
    "## Ex 3.2 Exceptions to MDP\n",
    "\n",
    "## Ex 3.3 The problem of driving\n",
    "\n",
    "## Ex. 3.6 Pole balancing (Cartpole!)\n",
    "\n",
    "## Ex 3.7 robot in maze\n",
    "\n",
    "## Ex 3.8 calculate returns G\n",
    "\n",
    "## Ex 3.9 calculate return G\n",
    "\n",
    "## Ex 3.12 v_pi\n",
    "\n",
    "## Ex 3.14 verify bellman equation for gridworld example\n"
   ]
  },
  {
   "cell_type": "markdown",
   "metadata": {},
   "source": []
  },
  {
   "cell_type": "markdown",
   "metadata": {},
   "source": [
    "## Ex 3.17 bellman equation for action values\n",
    "\n",
    "## Ex 3.20 optimal state-value for golf example\n",
    "\n",
    "## Ex 3.21 optimal action-value for putting in golf example\n",
    "\n",
    "## Ex 3.22 optimal policies for MDP\n",
    "\n",
    "## Ex 3.24 compute optimal value for best state in the Gridworld\n",
    "\n",
    "\n"
   ]
  },
  {
   "cell_type": "code",
   "execution_count": null,
   "metadata": {},
   "outputs": [],
   "source": []
  }
 ],
 "metadata": {
  "kernelspec": {
   "display_name": "Python 3 (Spyder)",
   "language": "python3",
   "name": "python3"
  },
  "language_info": {
   "codemirror_mode": {
    "name": "ipython",
    "version": 3
   },
   "file_extension": ".py",
   "mimetype": "text/x-python",
   "name": "python",
   "nbconvert_exporter": "python",
   "pygments_lexer": "ipython3",
   "version": "3.6.9"
  }
 },
 "nbformat": 4,
 "nbformat_minor": 4
}
